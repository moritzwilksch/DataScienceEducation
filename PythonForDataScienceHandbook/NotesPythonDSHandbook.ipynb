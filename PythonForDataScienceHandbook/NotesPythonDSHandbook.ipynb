{
 "nbformat": 4,
 "nbformat_minor": 2,
 "metadata": {
  "language_info": {
   "name": "python",
   "codemirror_mode": {
    "name": "ipython",
    "version": 3
   },
   "version": "3.7.6-final"
  },
  "orig_nbformat": 2,
  "file_extension": ".py",
  "mimetype": "text/x-python",
  "name": "python",
  "npconvert_exporter": "python",
  "pygments_lexer": "ipython3",
  "version": 3,
  "kernelspec": {
   "name": "python37564bit1fcecd4c4f8341c58cbb126c332027e4",
   "display_name": "Python 3.7.5 64-bit"
  }
 },
 "cells": [
  {
   "cell_type": "markdown",
   "metadata": {},
   "source": [
    "# iPython Introduction\n",
    "## iPython Magic Commands\n",
    "- prefixed by a '%' character (**line magic**) or '%%' (**cell magic**)\n",
    "- `%run` runs external code (function are available in namespace afterwards)\n",
    "- `%time` for simple runtime or `%%timeit` for multiple executions\n",
    "- to suppress output, add `;` at the end of the line\n",
    "- shell commands can be executed when preceeded by an `!`\n",
    "## Other Magic Commands\n",
    "### Available line magics:\n",
    "```python\n",
    "%alias  %alias_magic  %autoawait  %autocall  %automagic  %autosave  %bookmark  %cat  %cd  %clear  %colors  %conda  %config  %connect_info  %cp  %debug  %dhist  %dirs  %doctest_mode  %ed  %edit  %env  %gui  %hist  %history  %killbgscripts  %ldir  %less  %lf  %lk  %ll  %load  %load_ext  %loadpy  %logoff  %logon  %logstart  %logstate  %logstop  %ls  %lsmagic  %lx  %macro  %magic  %man  %matplotlib  %mkdir  %more  %mv  %notebook  %page  %pastebin  %pdb  %pdef  %pdoc  %pfile  %pinfo  %pinfo2  %pip  %popd  %pprint  %precision  %prun  %psearch  %psource  %pushd  %pwd  %pycat  %pylab  %qtconsole  %quickref  %recall  %rehashx  %reload_ext  %rep  %rerun  %reset  %reset_selective  %rm  %rmdir  %run  %save  %sc  %set_env  %store  %sx  %system  %tb  %time  %timeit  %unalias  %unload_ext  %who  %who_ls  %whos  %xdel  %xmode\n",
    "```"
   ]
  },
  {
   "cell_type": "markdown",
   "metadata": {},
   "source": [
    "### Available cell magics:\n",
    "```python\n",
    "%%!  %%HTML  %%SVG  %%bash  %%capture  %%debug  %%file  %%html  %%javascript  %%js  %%latex  %%markdown  %%perl  %%prun  %%pypy  %%python  %%python2  %%python3  %%ruby  %%script  %%sh  %%svg  %%sx  %%system  %%time  %%timeit  %%writefile\n",
    "```"
   ]
  },
  {
   "cell_type": "code",
   "execution_count": 25,
   "metadata": {},
   "outputs": [
    {
     "name": "stdout",
     "output_type": "stream",
     "text": "CPU times: user 3 µs, sys: 1 µs, total: 4 µs\nWall time: 6.91 µs\nhi\n"
    }
   ],
   "source": [
    "%time\n",
    "print(\"hi\")"
   ]
  },
  {
   "cell_type": "code",
   "execution_count": 26,
   "metadata": {},
   "outputs": [
    {
     "name": "stdout",
     "output_type": "stream",
     "text": "17.1 ns ± 5.14 ns per loop (mean ± std. dev. of 7 runs, 10000000 loops each)\n"
    }
   ],
   "source": [
    "%%timeit\n",
    "x = \"hi\""
   ]
  },
  {
   "cell_type": "code",
   "execution_count": 27,
   "metadata": {},
   "outputs": [
    {
     "data": {
      "text/html": "<h1> Hi in HTML </h1 >\n",
      "text/plain": "<IPython.core.display.HTML object>"
     },
     "metadata": {},
     "output_type": "display_data"
    }
   ],
   "source": [
    "%%html\n",
    "<h1> Hi in HTML </h1 >"
   ]
  },
  {
   "cell_type": "code",
   "execution_count": 28,
   "metadata": {},
   "outputs": [
    {
     "name": "stdout",
     "output_type": "stream",
     "text": "/Users/moritz/Documents/Coding/PyCharm Projects/DataScience/DataScienceEducation/PythonForDataScienceHandbook\n"
    }
   ],
   "source": [
    "!pwd"
   ]
  },
  {
   "cell_type": "markdown",
   "metadata": {},
   "source": [
    "# Introduction to Numpy\n",
    "## Python vs. Numpy\n",
    "- python datatypes (like an int) are just cleverly disguised C-datatypes with some overhead\n",
    "- numpys fixed datatype arrays save overhead"
   ]
  },
  {
   "cell_type": "markdown",
   "metadata": {},
   "source": [
    "## Numpy Arrays\n",
    "### Attributes"
   ]
  },
  {
   "cell_type": "code",
   "execution_count": 29,
   "metadata": {},
   "outputs": [
    {
     "name": "stdout",
     "output_type": "stream",
     "text": "2\n6\n(2, 3)\n"
    }
   ],
   "source": [
    "import numpy as np\n",
    "a = np.array([[1,2,5], [10, 20, 50]])\n",
    "print(a.ndim) # 2\n",
    "print(a.size) # 6\n",
    "print(a.shape) # (2, 3)"
   ]
  },
  {
   "cell_type": "markdown",
   "metadata": {},
   "source": [
    "### Slicing\n",
    "- works just like stock python (index, negative index, etc.)\n",
    "- multiple dimensions can be accessed via index-tuple: `print(a[0, 2])`\n",
    "- *Note:* Slicing returns view, `.copy()` creates real copy\n",
    "- Example: Reverse in every dimension"
   ]
  },
  {
   "cell_type": "code",
   "execution_count": 30,
   "metadata": {},
   "outputs": [
    {
     "data": {
      "text/plain": "array([[6, 5, 4],\n       [3, 2, 1]])"
     },
     "execution_count": 30,
     "metadata": {},
     "output_type": "execute_result"
    }
   ],
   "source": [
    "arr = np.array([[1,2,3],\n",
    "                [4,5,6]])\n",
    "arr[::-1, ::-1]"
   ]
  },
  {
   "cell_type": "markdown",
   "metadata": {},
   "source": [
    "### UFuncs\n",
    "- `np.multiply.reduce(x)` for reducing array\n",
    "- `np.multiply.accumulate(x)` for storing intermediate steps of reduction\n",
    "- for each function (e.g. `np.mean()`) numpy provides an NaN-Safe version: `np.nanmean()``\n",
    "- Broadcasting enables calculation between not equally-sized arrays (like scalar numerical operations)\n",
    "\n",
    "### Comparison, Masks, Boolean Logic\n",
    "- boolean arrays can be used as mask\n",
    "- one can also check if there are any/only `True` values: `.any()` or `.all()`\n",
    "- Boolean operators on arrays **MUST** be the python **bitwise** operators:\n",
    "    - AND: `&`\n",
    "    - OR: `|`\n",
    "    - NOT: `~`\n",
    "    - XOR: `^`\n",
    "\n",
    "### Other Numpy Array Stuff\n",
    "- *Structured* arrays and *Record* arrays can store multiple data types\n",
    "- Record arrays allow column access via an attribute, not only via dictionary key\n",
    "\n",
    "# Pandas\n",
    "## Basics\n",
    "- Pandas Series are generalized NumPy arrays: They have an explicit index\n",
    "- Pandas Series can be thought of as *specialized dictionaries* but the single type makes them more efficient\n",
    "\n",
    "## Data Frames\n",
    "- Data Frames can also be thought of as 2-dimensional numpy arrays\n",
    "    - rows are indexed by df.index\n",
    "    - columns are indexed by df.columns\n",
    "###  The Index\n",
    "- index structure can be thought of as *immutable array* or *ordered set*\n",
    "- when slicing with an explicit index, the final element is **included**\n",
    "    - when slicing with an implicit index, **it is not.**\n",
    "- `.loc`, `.iloc` and `.ix` are special *indexer attributes* to make clear which index (explicit = `.loc`, implicit = `.iloc`) you are using\n",
    "- `.ix` is a hybrid of these two\n",
    "\n",
    "### Multiindex\n",
    "- Can be created by using tuples as dict-keys for creating a data frame\n",
    "- can be stacked and unstacked\n",
    "- `.reset_index()` turns index labels into columns\n",
    "    - the opposite is `.set_index([cols])` which uses `cols` as indeces.\n",
    "\n",
    "### Operations on Data Frames\n",
    "- using ufuncs with pandas preserves/aligns index \n",
    "\n",
    "## Combining Datasets\n",
    "- by default, *concatenation* takes place row-wise\n",
    "- join is just a merge on index. Therefore, merge is more versatile\n",
    "\n",
    "# Split-Apply-Combine\n",
    "## Groupby\n",
    "- using `.aggregate(...)` on a groupby object can aggregate by multiple functions or specific functions per column\n",
    "=> Aggregate returns a reduce version of the data, `.transform(...)` returns the long version (same shape as input)\n",
    "- pandas can group by dictionary:\n",
    "`df.groupby({'A': 'vowel', 'B': 'consonant', 'C': 'consonant'}).sum()`\n",
    "\n",
    "|           | d1| d2|\n",
    "|    ---    |---|---|\n",
    "|consonant  | 12| 19|\n",
    "|vowel      |  3|  8|\n",
    "\n",
    "- pandas can group by any **function** that gets index as input and outputs group"
   ]
  },
  {
   "cell_type": "markdown",
   "metadata": {},
   "source": [
    "## Pivot Tables\n",
    "- in pivot tables, one can slica by cutted data:"
   ]
  },
  {
   "cell_type": "code",
   "execution_count": 31,
   "metadata": {},
   "outputs": [
    {
     "data": {
      "text/html": "<div>\n<style scoped>\n    .dataframe tbody tr th:only-of-type {\n        vertical-align: middle;\n    }\n\n    .dataframe tbody tr th {\n        vertical-align: top;\n    }\n\n    .dataframe thead th {\n        text-align: right;\n    }\n</style>\n<table border=\"1\" class=\"dataframe\">\n  <thead>\n    <tr style=\"text-align: right;\">\n      <th></th>\n      <th>class</th>\n      <th>First</th>\n      <th>Second</th>\n      <th>Third</th>\n    </tr>\n    <tr>\n      <th>sex</th>\n      <th>age</th>\n      <th></th>\n      <th></th>\n      <th></th>\n    </tr>\n  </thead>\n  <tbody>\n    <tr>\n      <th rowspan=\"2\" valign=\"top\">female</th>\n      <th>(0, 18]</th>\n      <td>0.909091</td>\n      <td>1.000000</td>\n      <td>0.511628</td>\n    </tr>\n    <tr>\n      <th>(18, 80]</th>\n      <td>0.972973</td>\n      <td>0.900000</td>\n      <td>0.423729</td>\n    </tr>\n    <tr>\n      <th rowspan=\"2\" valign=\"top\">male</th>\n      <th>(0, 18]</th>\n      <td>0.800000</td>\n      <td>0.600000</td>\n      <td>0.215686</td>\n    </tr>\n    <tr>\n      <th>(18, 80]</th>\n      <td>0.375000</td>\n      <td>0.071429</td>\n      <td>0.133663</td>\n    </tr>\n  </tbody>\n</table>\n</div>",
      "text/plain": "class               First    Second     Third\nsex    age                                   \nfemale (0, 18]   0.909091  1.000000  0.511628\n       (18, 80]  0.972973  0.900000  0.423729\nmale   (0, 18]   0.800000  0.600000  0.215686\n       (18, 80]  0.375000  0.071429  0.133663"
     },
     "execution_count": 31,
     "metadata": {},
     "output_type": "execute_result"
    }
   ],
   "source": [
    "import pandas as pd\n",
    "import seaborn as sns\n",
    "titanic = sns.load_dataset(\"titanic\")\n",
    "age = pd.cut(titanic['age'], [0, 18, 80])\n",
    "titanic.pivot_table('survived', ['sex', age], 'class')"
   ]
  },
  {
   "cell_type": "code",
   "execution_count": 32,
   "metadata": {},
   "outputs": [
    {
     "data": {
      "text/html": "<div>\n<style scoped>\n    .dataframe tbody tr th:only-of-type {\n        vertical-align: middle;\n    }\n\n    .dataframe tbody tr th {\n        vertical-align: top;\n    }\n\n    .dataframe thead th {\n        text-align: right;\n    }\n</style>\n<table border=\"1\" class=\"dataframe\">\n  <thead>\n    <tr style=\"text-align: right;\">\n      <th></th>\n      <th></th>\n      <th>adult_male</th>\n      <th>age</th>\n      <th>alone</th>\n      <th>fare</th>\n      <th>parch</th>\n      <th>pclass</th>\n      <th>sibsp</th>\n      <th>survived</th>\n    </tr>\n    <tr>\n      <th>sex</th>\n      <th>fare</th>\n      <th></th>\n      <th></th>\n      <th></th>\n      <th></th>\n      <th></th>\n      <th></th>\n      <th></th>\n      <th></th>\n    </tr>\n  </thead>\n  <tbody>\n    <tr>\n      <th rowspan=\"2\" valign=\"top\">female</th>\n      <th>(-0.001, 14.454]</th>\n      <td>0.000000</td>\n      <td>25.441176</td>\n      <td>0.781818</td>\n      <td>9.866709</td>\n      <td>0.163636</td>\n      <td>2.736364</td>\n      <td>0.154545</td>\n      <td>0.663636</td>\n    </tr>\n    <tr>\n      <th>(14.454, 512.329]</th>\n      <td>0.000000</td>\n      <td>29.110795</td>\n      <td>0.196078</td>\n      <td>63.143749</td>\n      <td>0.911765</td>\n      <td>1.848039</td>\n      <td>0.985294</td>\n      <td>0.784314</td>\n    </tr>\n    <tr>\n      <th rowspan=\"2\" valign=\"top\">male</th>\n      <th>(-0.001, 14.454]</th>\n      <td>0.985163</td>\n      <td>29.792326</td>\n      <td>0.922849</td>\n      <td>8.337559</td>\n      <td>0.026706</td>\n      <td>2.777448</td>\n      <td>0.083086</td>\n      <td>0.115727</td>\n    </tr>\n    <tr>\n      <th>(14.454, 512.329]</th>\n      <td>0.854167</td>\n      <td>31.962821</td>\n      <td>0.416667</td>\n      <td>49.656371</td>\n      <td>0.529167</td>\n      <td>1.845833</td>\n      <td>0.916667</td>\n      <td>0.291667</td>\n    </tr>\n    <tr>\n      <th>All</th>\n      <th></th>\n      <td>0.478022</td>\n      <td>35.623187</td>\n      <td>0.428571</td>\n      <td>78.919735</td>\n      <td>0.478022</td>\n      <td>1.192308</td>\n      <td>0.467033</td>\n      <td>0.675824</td>\n    </tr>\n  </tbody>\n</table>\n</div>",
      "text/plain": "                          adult_male        age     alone       fare  \\\nsex    fare                                                            \nfemale (-0.001, 14.454]     0.000000  25.441176  0.781818   9.866709   \n       (14.454, 512.329]    0.000000  29.110795  0.196078  63.143749   \nmale   (-0.001, 14.454]     0.985163  29.792326  0.922849   8.337559   \n       (14.454, 512.329]    0.854167  31.962821  0.416667  49.656371   \nAll                         0.478022  35.623187  0.428571  78.919735   \n\n                             parch    pclass     sibsp  survived  \nsex    fare                                                       \nfemale (-0.001, 14.454]   0.163636  2.736364  0.154545  0.663636  \n       (14.454, 512.329]  0.911765  1.848039  0.985294  0.784314  \nmale   (-0.001, 14.454]   0.026706  2.777448  0.083086  0.115727  \n       (14.454, 512.329]  0.529167  1.845833  0.916667  0.291667  \nAll                       0.478022  1.192308  0.467033  0.675824  "
     },
     "execution_count": 32,
     "metadata": {},
     "output_type": "execute_result"
    }
   ],
   "source": [
    "\n",
    "df = sns.load_dataset(\"titanic\")\n",
    "f = pd.qcut(df.fare, 2)\n",
    "pd.pivot_table(data=df, index=[\"sex\", f], margins=True)"
   ]
  },
  {
   "cell_type": "code",
   "execution_count": 33,
   "metadata": {},
   "outputs": [
    {
     "name": "stdout",
     "output_type": "stream",
     "text": "[14. 28. 50.]\n"
    }
   ],
   "source": [
    "print(np.percentile(df.age.dropna(), [10, 50, 90]))"
   ]
  },
  {
   "cell_type": "markdown",
   "metadata": {},
   "source": [
    "## Indicator Variables\n",
    "- `.str.get_dummies(SPLITCHAR)` is also a valid getdummies call\n",
    "\n",
    "# Time Series\n",
    "## Datetime Objects\n",
    "- available from different packages (vanilla python, numpy, pandas)\n"
   ]
  },
  {
   "cell_type": "code",
   "execution_count": 34,
   "metadata": {},
   "outputs": [
    {
     "data": {
      "text/plain": "array(['2015-07-04', '2015-07-05', '2015-07-06', '2015-07-07',\n       '2015-07-08', '2015-07-09', '2015-07-10', '2015-07-11',\n       '2015-07-12', '2015-07-13', '2015-07-14', '2015-07-15'],\n      dtype='datetime64[D]')"
     },
     "execution_count": 34,
     "metadata": {},
     "output_type": "execute_result"
    }
   ],
   "source": [
    "date = np.array('2015-07-04', dtype=np.datetime64)\n",
    "date + np.arange(12)"
   ]
  },
  {
   "cell_type": "markdown",
   "metadata": {},
   "source": [
    "## Resampling\n",
    "- can be done using `.asfreq()` or `.resample()``\n",
    "    - `.asfrequ()` selects subset of datapoints\n",
    "    - `.resample()` aggregates multiple data points"
   ]
  },
  {
   "cell_type": "markdown",
   "metadata": {},
   "source": [
    "# Visualizing with Matplotlib\n"
   ]
  }
 ]
}