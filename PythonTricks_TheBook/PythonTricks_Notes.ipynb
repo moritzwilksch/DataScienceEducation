{
 "nbformat": 4,
 "nbformat_minor": 2,
 "metadata": {
  "language_info": {
   "name": "python",
   "codemirror_mode": {
    "name": "ipython",
    "version": 3
   },
   "version": "3.7.6-final"
  },
  "orig_nbformat": 2,
  "file_extension": ".py",
  "mimetype": "text/x-python",
  "name": "python",
  "npconvert_exporter": "python",
  "pygments_lexer": "ipython3",
  "version": 3,
  "kernelspec": {
   "name": "python37564bit1fcecd4c4f8341c58cbb126c332027e4",
   "display_name": "Python 3.7.5 64-bit"
  }
 },
 "cells": [
  {
   "cell_type": "markdown",
   "metadata": {},
   "source": [
    "# Python Tricks - The Book\n",
    "## Assertions\n",
    "- used to inform developers about **unrecoverable** errors in a program, **NOT** for expected error conditions (like FileNotFound, where the user can just retry)!\n",
    "- Therefore, `assert` is a *debugging aid* not a handler of runtime errors\n",
    "### Pitfalls\n",
    "- Assertions can be globally disabled, so **do not use them for data validation**\n",
    "- passing a tuple to assert always evaluates to `True` as non-empty tuples evaluate as True"
   ]
  },
  {
   "cell_type": "code",
   "execution_count": 6,
   "metadata": {},
   "outputs": [
    {
     "ename": "AssertionError",
     "evalue": "This actually fails",
     "output_type": "error",
     "traceback": [
      "\u001b[0;31m---------------------------------------------------------------------------\u001b[0m",
      "\u001b[0;31mAssertionError\u001b[0m                            Traceback (most recent call last)",
      "\u001b[0;32m<ipython-input-6-9e307ef3288f>\u001b[0m in \u001b[0;36m<module>\u001b[0;34m\u001b[0m\n\u001b[1;32m      3\u001b[0m \u001b[0;34m\u001b[0m\u001b[0m\n\u001b[1;32m      4\u001b[0m \u001b[0;31m# Correct way:\u001b[0m\u001b[0;34m\u001b[0m\u001b[0;34m\u001b[0m\u001b[0;34m\u001b[0m\u001b[0m\n\u001b[0;32m----> 5\u001b[0;31m \u001b[0;32massert\u001b[0m \u001b[0;36m1\u001b[0m \u001b[0;34m==\u001b[0m \u001b[0;36m42\u001b[0m\u001b[0;34m,\u001b[0m \u001b[0;34m\"This actually fails\"\u001b[0m\u001b[0;34m\u001b[0m\u001b[0;34m\u001b[0m\u001b[0m\n\u001b[0m",
      "\u001b[0;31mAssertionError\u001b[0m: This actually fails"
     ]
    }
   ],
   "source": [
    "# Always passes:\n",
    "assert (1 == 42, \"This should fail but doesn't\")\n",
    "\n",
    "# Correct way:\n",
    "assert 1 == 42, \"This actually fails\""
   ]
  },
  {
   "cell_type": "markdown",
   "metadata": {},
   "source": [
    "## Comma Placement for Lists\n",
    "- to better see diffs in versioning systems, one can spread out lists over multiple lines\n",
    "- whenn adding items, instead of adding a comma to the last line and adding annother line, one can **always add commas to the end of a line, even the last one**"
   ]
  },
  {
   "cell_type": "code",
   "execution_count": 8,
   "metadata": {},
   "outputs": [
    {
     "name": "stdout",
     "output_type": "stream",
     "text": "['Alice', 'Bob', 'Dilbert']\n"
    }
   ],
   "source": [
    "names = [\n",
    "    \"Alice\",\n",
    "    \"Bob\",\n",
    "    \"Dilbert\",      # Note the trailing comma\n",
    "]\n",
    "print(names)"
   ]
  },
  {
   "cell_type": "markdown",
   "metadata": {},
   "source": [
    "## Underscores\n",
    "1. Leading Underscore `_var``\n",
    "    - `_var` is – **by convention** – a (private) variable for *internal* use\n",
    "    - when importing with wildcard `*`, functions starting with `_` will not be imported (but wildcard imports should be avoided anyway...)\n",
    "2. Trailing Underscore `class_``\n",
    "    - used – **by convention** – to break naming conflicts with python keywords (e.g. `list_`)\n",
    "3. Double Leading Underscore `__var``\n",
    "    - A double underscore prefix causes the Python interpreter to rewrite the attribute name in order to avoid naming conflicts in subclasses (name mangling)"
   ]
  },
  {
   "cell_type": "code",
   "execution_count": 13,
   "metadata": {},
   "outputs": [
    {
     "name": "stdout",
     "output_type": "stream",
     "text": "['_Test__baz', '__class__', '__delattr__', '__dict__', '__dir__', '__doc__', '__eq__', '__format__', '__ge__', '__getattribute__', '__gt__', '__hash__', '__init__', '__init_subclass__', '__le__', '__lt__', '__module__', '__ne__', '__new__', '__reduce__', '__reduce_ex__', '__repr__', '__setattr__', '__sizeof__', '__str__', '__subclasshook__', '__weakref__', '_bar', 'foo']\n== EXTENDED CLASS ==\noverridden\noverridden\n"
    },
    {
     "ename": "AttributeError",
     "evalue": "'ExtendedTest' object has no attribute '__baz'",
     "output_type": "error",
     "traceback": [
      "\u001b[0;31m---------------------------------------------------------------------------\u001b[0m",
      "\u001b[0;31mAttributeError\u001b[0m                            Traceback (most recent call last)",
      "\u001b[0;32m<ipython-input-13-5c77db6ad8db>\u001b[0m in \u001b[0;36m<module>\u001b[0;34m\u001b[0m\n\u001b[1;32m     18\u001b[0m \u001b[0mprint\u001b[0m\u001b[0;34m(\u001b[0m\u001b[0met\u001b[0m\u001b[0;34m.\u001b[0m\u001b[0mfoo\u001b[0m\u001b[0;34m)\u001b[0m\u001b[0;34m\u001b[0m\u001b[0;34m\u001b[0m\u001b[0m\n\u001b[1;32m     19\u001b[0m \u001b[0mprint\u001b[0m\u001b[0;34m(\u001b[0m\u001b[0met\u001b[0m\u001b[0;34m.\u001b[0m\u001b[0m_bar\u001b[0m\u001b[0;34m)\u001b[0m\u001b[0;34m\u001b[0m\u001b[0;34m\u001b[0m\u001b[0m\n\u001b[0;32m---> 20\u001b[0;31m \u001b[0mprint\u001b[0m\u001b[0;34m(\u001b[0m\u001b[0met\u001b[0m\u001b[0;34m.\u001b[0m\u001b[0m__baz\u001b[0m\u001b[0;34m)\u001b[0m\u001b[0;34m\u001b[0m\u001b[0;34m\u001b[0m\u001b[0m\n\u001b[0m",
      "\u001b[0;31mAttributeError\u001b[0m: 'ExtendedTest' object has no attribute '__baz'"
     ]
    }
   ],
   "source": [
    "class Test:\n",
    "    def __init__(self):\n",
    "        self.foo = 11\n",
    "        self._bar = 23\n",
    "        self.__baz = 23\n",
    "t = Test()\n",
    "print(dir(t))\n",
    "\n",
    "class ExtendedTest(Test):\n",
    "    def __init__(self):\n",
    "        super().__init__()\n",
    "        self.foo = 'overridden'\n",
    "        self._bar = 'overridden'\n",
    "        self.__baz = 'overridden'\n",
    "\n",
    "print(\"== EXTENDED CLASS ==\")\n",
    "et = ExtendedTest()\n",
    "print(et.foo)\n",
    "print(et._bar)\n",
    "print(et.__baz)"
   ]
  },
  {
   "cell_type": "markdown",
   "metadata": {},
   "source": [
    "*Note* that `__baz` is automatically renamed to `_Test__baz` to avoid name collision with subclasses\n",
    "> Double underscores in python are often called \"dunders\"\n",
    "\n",
    "4. Double Leading and Trailing underscores `__init__`\n",
    "    - These **are not touched by name mangling**\n",
    "    - used for dunder-methods (aka magic methods)\n",
    "    - avoid use for own methods due to possible (future) collisions with python syntax\n",
    "\n",
    "5. Single Underscore `_`\n",
    "    - used for a temporary or insignificant variable\n",
    "    - is a valid variable name, though\n",
    "\n",
    "## Functions as First Class Citizens\n",
    "- functions can be passed from and to other functions\n",
    "- functions can be stored in lists and objects\n",
    "- Objects can be made callable by implementing the `__call__(self,...)` method\n",
    "\n",
    "## `__str()__` and `__repr()__` Dunder methods\n",
    "- `str` should be readable\n",
    "- `repr` should be unambiguous\n",
    "\n",
    "## Custom Exception Classes\n",
    "- for a custom module you should write custom exception Classes\n",
    "- you should also write a custom BaseException for your module and have all other exceptions inherit from it\n",
    "    - this makes it easier not only to catch specific exceptions but also generic ones"
   ]
  },
  {
   "cell_type": "code",
   "execution_count": 45,
   "metadata": {},
   "outputs": [
    {
     "name": "stdout",
     "output_type": "stream",
     "text": "Name too short!\n"
    }
   ],
   "source": [
    "class MyModuleBaseValidationError(ValueError):\n",
    "    pass\n",
    "\n",
    "class NameTooShortError(MyModuleBaseValidationError):\n",
    "    pass\n",
    "\n",
    "def validate(name):\n",
    "    if len(name) < 10:\n",
    "        raise NameTooShortError(name)\n",
    "\n",
    "try:\n",
    "    validate(\"joe\")\n",
    "except NameTooShortError:\n",
    "    print(\"Name too short!\")\n",
    "except MyModuleBaseValidationError:\n",
    "    print(\"Error in MyModule\")"
   ]
  },
  {
   "cell_type": "markdown",
   "metadata": {},
   "source": [
    "## Class Variables VS Instance Variables\n",
    "### Class Variables\n",
    "- Not tied to an instance, but stored in the class itself\n",
    "- is shared among *all instances of the class*\n",
    "- When changing `ClassName.class_var = VALUE` it is changed for all instances\n",
    "- When changing `instance1.class_var = VALUE` then `class_var` is introduced as an instance variable shadowing the class variable\n",
    "\n",
    "### Instance Variable\n",
    "- created for each individual instance"
   ]
  },
  {
   "cell_type": "code",
   "execution_count": 51,
   "metadata": {},
   "outputs": [
    {
     "name": "stdout",
     "output_type": "stream",
     "text": "Jack Jill\n4\n4\nJack Jill\n6\n4\n4\n"
    }
   ],
   "source": [
    "class Dog:\n",
    "    num_legs = 4 # <- Class variable\n",
    "\n",
    "    def __init__(self, name):\n",
    "        self.name = name # <- Instance variable\n",
    "\n",
    "jack = Dog(\"Jack\")\n",
    "jill = Dog(\"Jill\")\n",
    "\n",
    "print(jack.name, jill.name)\n",
    "print(jack.num_legs)\n",
    "print(Dog.num_legs) #Class variable\n",
    "\n",
    "jack.num_legs = 6 # c\n",
    "\n",
    "print(jack.name, jill.name)\n",
    "print(jack.num_legs)\n",
    "print(jill.num_legs)\n",
    "print(Dog.num_legs) #Class variable"
   ]
  },
  {
   "cell_type": "markdown",
   "metadata": {},
   "source": [
    "## Stock Python Data Types\n",
    "### Dictionary\n",
    "- $O(1)$ for lookup, insert, delete\n",
    "**Special Forms**: OrdererdDict, DefaultDict, ChainMap\n",
    "### Array-like\n",
    "#### List\n",
    "- Mutable, dynamic array\n",
    "- usable as stack\n",
    "- slow for immitating a queue (to due shifting of $n$ elements for each insert)\n",
    "#### Tuples\n",
    "- immutable container\n",
    "#### str\n",
    "- immutable array of unicode chars\n",
    "### bytes\n",
    "- immutable array of single bytes\n",
    "\n",
    "### Sets\n",
    "### Set\n",
    "- membership test in $O(1)$, union, intersect etc. in $O(n)$\n",
    "### Multiset (`collections.Counter`)\n",
    "- allows for multiple occurences of a value in a set  \n",
    "\n",
    "## Generators and Iterators\n",
    "- Iterators can be used to write pythonic loops\n",
    "- constructing an iterator on a custom class requieres a lot of boilerplate code (implementing `__next()__` etc.)\n",
    "- Generators (functions which `yield` results instead of `return`ing them) can be used to achieve the same results\n",
    "    - Generator functions can be expressed as *generator expressions*, similar to list comprehensions  \n",
    "$\\Rightarrow$ both yield results on-the-fly which makes them ***very memory efficient***\n"
   ]
  },
  {
   "cell_type": "code",
   "execution_count": 53,
   "metadata": {},
   "outputs": [
    {
     "name": "stdout",
     "output_type": "stream",
     "text": "<generator object <genexpr> at 0x1296c1dd0>\n0\n1\n4\n9\n16\n25\n36\n49\n64\n81\n"
    }
   ],
   "source": [
    "square_generator = (x**2 for x in range(10)) # Use round parenthesis instead of square brackets or curly braces\n",
    "print(square_generator)\n",
    "\n",
    "for e in square_generator:\n",
    "    print(e)"
   ]
  },
  {
   "cell_type": "markdown",
   "metadata": {},
   "source": [
    "## Pythonic Productivity Hacks\n",
    "### Using `dir()` to examine the structure of a module/class/object"
   ]
  },
  {
   "cell_type": "code",
   "execution_count": 63,
   "metadata": {},
   "outputs": [
    {
     "data": {
      "text/plain": "['BooleanDtype',\n 'Categorical',\n 'CategoricalDtype',\n 'CategoricalIndex',\n 'DataFrame',\n 'DateOffset',\n 'DatetimeIndex',\n 'DatetimeTZDtype',\n 'ExcelFile',\n 'ExcelWriter',\n 'Float64Index',\n 'Grouper',\n 'HDFStore',\n 'Index',\n 'IndexSlice',\n 'Int16Dtype',\n 'Int32Dtype',\n 'Int64Dtype',\n 'Int64Index',\n 'Int8Dtype',\n 'Interval',\n 'IntervalDtype',\n 'IntervalIndex',\n 'MultiIndex',\n 'NA',\n 'NaT',\n 'NamedAgg',\n 'Period',\n 'PeriodDtype',\n 'PeriodIndex',\n 'RangeIndex',\n 'Series',\n 'SparseDtype',\n 'StringDtype',\n 'Timedelta',\n 'TimedeltaIndex',\n 'Timestamp',\n 'UInt16Dtype',\n 'UInt32Dtype',\n 'UInt64Dtype',\n 'UInt64Index',\n 'UInt8Dtype',\n '__builtins__',\n '__cached__',\n '__doc__',\n '__docformat__',\n '__file__',\n '__getattr__',\n '__git_version__',\n '__loader__',\n '__name__',\n '__package__',\n '__path__',\n '__spec__',\n '__version__',\n '_config',\n '_hashtable',\n '_lib',\n '_libs',\n '_np_version_under1p14',\n '_np_version_under1p15',\n '_np_version_under1p16',\n '_np_version_under1p17',\n '_np_version_under1p18',\n '_testing',\n '_tslib',\n '_typing',\n '_version',\n 'api',\n 'array',\n 'arrays',\n 'bdate_range',\n 'compat',\n 'concat',\n 'core',\n 'crosstab',\n 'cut',\n 'date_range',\n 'describe_option',\n 'errors',\n 'eval',\n 'factorize',\n 'get_dummies',\n 'get_option',\n 'infer_freq',\n 'interval_range',\n 'io',\n 'isna',\n 'isnull',\n 'json_normalize',\n 'lreshape',\n 'melt',\n 'merge',\n 'merge_asof',\n 'merge_ordered',\n 'notna',\n 'notnull',\n 'offsets',\n 'option_context',\n 'options',\n 'pandas',\n 'period_range',\n 'pivot',\n 'pivot_table',\n 'plotting',\n 'qcut',\n 'read_clipboard',\n 'read_csv',\n 'read_excel',\n 'read_feather',\n 'read_fwf',\n 'read_gbq',\n 'read_hdf',\n 'read_html',\n 'read_json',\n 'read_orc',\n 'read_parquet',\n 'read_pickle',\n 'read_sas',\n 'read_spss',\n 'read_sql',\n 'read_sql_query',\n 'read_sql_table',\n 'read_stata',\n 'read_table',\n 'reset_option',\n 'set_eng_float_format',\n 'set_option',\n 'show_versions',\n 'test',\n 'testing',\n 'timedelta_range',\n 'to_datetime',\n 'to_numeric',\n 'to_pickle',\n 'to_timedelta',\n 'tseries',\n 'unique',\n 'util',\n 'value_counts',\n 'wide_to_long']"
     },
     "execution_count": 63,
     "metadata": {},
     "output_type": "execute_result"
    }
   ],
   "source": [
    "import pandas as pd\n",
    "dir(pd)"
   ]
  },
  {
   "cell_type": "code",
   "execution_count": 64,
   "metadata": {},
   "outputs": [
    {
     "data": {
      "text/plain": "['T',\n '_AXIS_ALIASES',\n '_AXIS_IALIASES',\n '_AXIS_LEN',\n '_AXIS_NAMES',\n '_AXIS_NUMBERS',\n '_AXIS_ORDERS',\n '_AXIS_REVERSED',\n '__abs__',\n '__add__',\n '__and__',\n '__annotations__',\n '__array__',\n '__array_priority__',\n '__array_wrap__',\n '__bool__',\n '__class__',\n '__contains__',\n '__copy__',\n '__deepcopy__',\n '__delattr__',\n '__delitem__',\n '__dict__',\n '__dir__',\n '__div__',\n '__doc__',\n '__eq__',\n '__finalize__',\n '__floordiv__',\n '__format__',\n '__ge__',\n '__getattr__',\n '__getattribute__',\n '__getitem__',\n '__getstate__',\n '__gt__',\n '__hash__',\n '__iadd__',\n '__iand__',\n '__ifloordiv__',\n '__imod__',\n '__imul__',\n '__init__',\n '__init_subclass__',\n '__invert__',\n '__ior__',\n '__ipow__',\n '__isub__',\n '__iter__',\n '__itruediv__',\n '__ixor__',\n '__le__',\n '__len__',\n '__lt__',\n '__matmul__',\n '__mod__',\n '__module__',\n '__mul__',\n '__ne__',\n '__neg__',\n '__new__',\n '__nonzero__',\n '__or__',\n '__pos__',\n '__pow__',\n '__radd__',\n '__rand__',\n '__rdiv__',\n '__reduce__',\n '__reduce_ex__',\n '__repr__',\n '__rfloordiv__',\n '__rmatmul__',\n '__rmod__',\n '__rmul__',\n '__ror__',\n '__round__',\n '__rpow__',\n '__rsub__',\n '__rtruediv__',\n '__rxor__',\n '__setattr__',\n '__setitem__',\n '__setstate__',\n '__sizeof__',\n '__str__',\n '__sub__',\n '__subclasshook__',\n '__truediv__',\n '__weakref__',\n '__xor__',\n '_accessors',\n '_add_numeric_operations',\n '_add_series_or_dataframe_operations',\n '_agg_by_level',\n '_agg_examples_doc',\n '_agg_summary_and_see_also_doc',\n '_aggregate',\n '_aggregate_multiple_funcs',\n '_align_frame',\n '_align_series',\n '_box_col_values',\n '_box_item_values',\n '_builtin_table',\n '_check_inplace_setting',\n '_check_is_chained_assignment_possible',\n '_check_label_or_level_ambiguity',\n '_check_setitem_copy',\n '_clear_item_cache',\n '_clip_with_one_bound',\n '_clip_with_scalar',\n '_combine_frame',\n '_combine_match_index',\n '_consolidate',\n '_consolidate_inplace',\n '_construct_axes_dict',\n '_construct_axes_dict_from',\n '_construct_axes_from_arguments',\n '_construct_result',\n '_constructor',\n '_constructor_expanddim',\n '_constructor_sliced',\n '_convert',\n '_count_level',\n '_create_indexer',\n '_cython_table',\n '_deprecations',\n '_dir_additions',\n '_dir_deletions',\n '_drop_axis',\n '_drop_labels_or_levels',\n '_ensure_type',\n '_ensure_valid_index',\n '_find_valid_index',\n '_from_arrays',\n '_from_axes',\n '_get_agg_axis',\n '_get_axis',\n '_get_axis_name',\n '_get_axis_number',\n '_get_axis_resolvers',\n '_get_block_manager_axis',\n '_get_bool_data',\n '_get_cacher',\n '_get_cleaned_column_resolvers',\n '_get_cython_func',\n '_get_index_resolvers',\n '_get_item_cache',\n '_get_label_or_level_values',\n '_get_numeric_data',\n '_get_value',\n '_get_values',\n '_getitem_bool_array',\n '_getitem_multilevel',\n '_gotitem',\n '_iget_item_cache',\n '_indexed_same',\n '_info_axis',\n '_info_axis_name',\n '_info_axis_number',\n '_info_repr',\n '_init_mgr',\n '_internal_get_values',\n '_internal_names',\n '_internal_names_set',\n '_is_builtin_func',\n '_is_cached',\n '_is_copy',\n '_is_datelike_mixed_type',\n '_is_homogeneous_type',\n '_is_label_or_level_reference',\n '_is_label_reference',\n '_is_level_reference',\n '_is_mixed_type',\n '_is_numeric_mixed_type',\n '_is_view',\n '_ix',\n '_ixs',\n '_join_compat',\n '_maybe_cache_changed',\n '_maybe_update_cacher',\n '_metadata',\n '_needs_reindex_multi',\n '_obj_with_exclusions',\n '_protect_consolidate',\n '_reduce',\n '_reindex_axes',\n '_reindex_columns',\n '_reindex_index',\n '_reindex_multi',\n '_reindex_with_indexers',\n '_repr_data_resource_',\n '_repr_fits_horizontal_',\n '_repr_fits_vertical_',\n '_repr_html_',\n '_repr_latex_',\n '_reset_cache',\n '_reset_cacher',\n '_sanitize_column',\n '_selected_obj',\n '_selection',\n '_selection_list',\n '_selection_name',\n '_series',\n '_set_as_cached',\n '_set_axis',\n '_set_axis_name',\n '_set_is_copy',\n '_set_item',\n '_set_value',\n '_setitem_array',\n '_setitem_frame',\n '_setitem_slice',\n '_setup_axes',\n '_slice',\n '_stat_axis',\n '_stat_axis_name',\n '_stat_axis_number',\n '_take_with_is_copy',\n '_to_dict_of_blocks',\n '_try_aggregate_string_function',\n '_typ',\n '_update_inplace',\n '_validate_dtype',\n '_values',\n '_where',\n '_xs',\n 'abs',\n 'add',\n 'add_prefix',\n 'add_suffix',\n 'agg',\n 'aggregate',\n 'align',\n 'all',\n 'any',\n 'append',\n 'apply',\n 'applymap',\n 'asfreq',\n 'asof',\n 'assign',\n 'astype',\n 'at',\n 'at_time',\n 'attrs',\n 'axes',\n 'between_time',\n 'bfill',\n 'bool',\n 'boxplot',\n 'clip',\n 'columns',\n 'combine',\n 'combine_first',\n 'convert_dtypes',\n 'copy',\n 'corr',\n 'corrwith',\n 'count',\n 'cov',\n 'cummax',\n 'cummin',\n 'cumprod',\n 'cumsum',\n 'describe',\n 'diff',\n 'div',\n 'divide',\n 'dot',\n 'drop',\n 'drop_duplicates',\n 'droplevel',\n 'dropna',\n 'dtypes',\n 'duplicated',\n 'empty',\n 'eq',\n 'equals',\n 'eval',\n 'ewm',\n 'expanding',\n 'explode',\n 'ffill',\n 'fillna',\n 'filter',\n 'first',\n 'first_valid_index',\n 'floordiv',\n 'from_dict',\n 'from_records',\n 'ge',\n 'get',\n 'groupby',\n 'gt',\n 'head',\n 'hist',\n 'iat',\n 'idxmax',\n 'idxmin',\n 'iloc',\n 'index',\n 'infer_objects',\n 'info',\n 'insert',\n 'interpolate',\n 'isin',\n 'isna',\n 'isnull',\n 'items',\n 'iteritems',\n 'iterrows',\n 'itertuples',\n 'join',\n 'keys',\n 'kurt',\n 'kurtosis',\n 'last',\n 'last_valid_index',\n 'le',\n 'loc',\n 'lookup',\n 'lt',\n 'mad',\n 'mask',\n 'max',\n 'mean',\n 'median',\n 'melt',\n 'memory_usage',\n 'merge',\n 'min',\n 'mod',\n 'mode',\n 'mul',\n 'multiply',\n 'ndim',\n 'ne',\n 'nlargest',\n 'notna',\n 'notnull',\n 'nsmallest',\n 'nunique',\n 'pct_change',\n 'pipe',\n 'pivot',\n 'pivot_table',\n 'plot',\n 'pop',\n 'pow',\n 'prod',\n 'product',\n 'quantile',\n 'query',\n 'radd',\n 'rank',\n 'rdiv',\n 'reindex',\n 'reindex_like',\n 'rename',\n 'rename_axis',\n 'reorder_levels',\n 'replace',\n 'resample',\n 'reset_index',\n 'rfloordiv',\n 'rmod',\n 'rmul',\n 'rolling',\n 'round',\n 'rpow',\n 'rsub',\n 'rtruediv',\n 'sample',\n 'select_dtypes',\n 'sem',\n 'set_axis',\n 'set_index',\n 'shape',\n 'shift',\n 'size',\n 'skew',\n 'slice_shift',\n 'sort_index',\n 'sort_values',\n 'sparse',\n 'squeeze',\n 'stack',\n 'std',\n 'style',\n 'sub',\n 'subtract',\n 'sum',\n 'swapaxes',\n 'swaplevel',\n 'tail',\n 'take',\n 'to_clipboard',\n 'to_csv',\n 'to_dict',\n 'to_excel',\n 'to_feather',\n 'to_gbq',\n 'to_hdf',\n 'to_html',\n 'to_json',\n 'to_latex',\n 'to_markdown',\n 'to_numpy',\n 'to_parquet',\n 'to_period',\n 'to_pickle',\n 'to_records',\n 'to_sql',\n 'to_stata',\n 'to_string',\n 'to_timestamp',\n 'to_xarray',\n 'transform',\n 'transpose',\n 'truediv',\n 'truncate',\n 'tshift',\n 'tz_convert',\n 'tz_localize',\n 'unstack',\n 'update',\n 'values',\n 'var',\n 'where',\n 'xs']"
     },
     "execution_count": 64,
     "metadata": {},
     "output_type": "execute_result"
    }
   ],
   "source": [
    "dir(pd.DataFrame)"
   ]
  },
  {
   "cell_type": "markdown",
   "metadata": {},
   "source": [
    "### Using `help()`"
   ]
  },
  {
   "cell_type": "code",
   "execution_count": 69,
   "metadata": {},
   "outputs": [
    {
     "name": "stdout",
     "output_type": "stream",
     "text": "Help on function join in module pandas.core.frame:\n\njoin(self, other, on=None, how='left', lsuffix='', rsuffix='', sort=False) -> 'DataFrame'\n    Join columns of another DataFrame.\n    \n    Join columns with `other` DataFrame either on index or on a key\n    column. Efficiently join multiple DataFrame objects by index at once by\n    passing a list.\n    \n    Parameters\n    ----------\n    other : DataFrame, Series, or list of DataFrame\n        Index should be similar to one of the columns in this one. If a\n        Series is passed, its name attribute must be set, and that will be\n        used as the column name in the resulting joined DataFrame.\n    on : str, list of str, or array-like, optional\n        Column or index level name(s) in the caller to join on the index\n        in `other`, otherwise joins index-on-index. If multiple\n        values given, the `other` DataFrame must have a MultiIndex. Can\n        pass an array as the join key if it is not already contained in\n        the calling DataFrame. Like an Excel VLOOKUP operation.\n    how : {'left', 'right', 'outer', 'inner'}, default 'left'\n        How to handle the operation of the two objects.\n    \n        * left: use calling frame's index (or column if on is specified)\n        * right: use `other`'s index.\n        * outer: form union of calling frame's index (or column if on is\n          specified) with `other`'s index, and sort it.\n          lexicographically.\n        * inner: form intersection of calling frame's index (or column if\n          on is specified) with `other`'s index, preserving the order\n          of the calling's one.\n    lsuffix : str, default ''\n        Suffix to use from left frame's overlapping columns.\n    rsuffix : str, default ''\n        Suffix to use from right frame's overlapping columns.\n    sort : bool, default False\n        Order result DataFrame lexicographically by the join key. If False,\n        the order of the join key depends on the join type (how keyword).\n    \n    Returns\n    -------\n    DataFrame\n        A dataframe containing columns from both the caller and `other`.\n    \n    See Also\n    --------\n    DataFrame.merge : For column(s)-on-columns(s) operations.\n    \n    Notes\n    -----\n    Parameters `on`, `lsuffix`, and `rsuffix` are not supported when\n    passing a list of `DataFrame` objects.\n    \n    Support for specifying index levels as the `on` parameter was added\n    in version 0.23.0.\n    \n    Examples\n    --------\n    >>> df = pd.DataFrame({'key': ['K0', 'K1', 'K2', 'K3', 'K4', 'K5'],\n    ...                    'A': ['A0', 'A1', 'A2', 'A3', 'A4', 'A5']})\n    \n    >>> df\n      key   A\n    0  K0  A0\n    1  K1  A1\n    2  K2  A2\n    3  K3  A3\n    4  K4  A4\n    5  K5  A5\n    \n    >>> other = pd.DataFrame({'key': ['K0', 'K1', 'K2'],\n    ...                       'B': ['B0', 'B1', 'B2']})\n    \n    >>> other\n      key   B\n    0  K0  B0\n    1  K1  B1\n    2  K2  B2\n    \n    Join DataFrames using their indexes.\n    \n    >>> df.join(other, lsuffix='_caller', rsuffix='_other')\n      key_caller   A key_other    B\n    0         K0  A0        K0   B0\n    1         K1  A1        K1   B1\n    2         K2  A2        K2   B2\n    3         K3  A3       NaN  NaN\n    4         K4  A4       NaN  NaN\n    5         K5  A5       NaN  NaN\n    \n    If we want to join using the key columns, we need to set key to be\n    the index in both `df` and `other`. The joined DataFrame will have\n    key as its index.\n    \n    >>> df.set_index('key').join(other.set_index('key'))\n          A    B\n    key\n    K0   A0   B0\n    K1   A1   B1\n    K2   A2   B2\n    K3   A3  NaN\n    K4   A4  NaN\n    K5   A5  NaN\n    \n    Another option to join using the key columns is to use the `on`\n    parameter. DataFrame.join always uses `other`'s index but we can use\n    any column in `df`. This method preserves the original DataFrame's\n    index in the result.\n    \n    >>> df.join(other.set_index('key'), on='key')\n      key   A    B\n    0  K0  A0   B0\n    1  K1  A1   B1\n    2  K2  A2   B2\n    3  K3  A3  NaN\n    4  K4  A4  NaN\n    5  K5  A5  NaN\n\n"
    }
   ],
   "source": [
    "help(pd.DataFrame.join)"
   ]
  }
 ]
}