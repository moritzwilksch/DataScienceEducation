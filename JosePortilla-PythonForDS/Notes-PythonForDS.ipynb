{
 "cells": [
  {
   "cell_type": "code",
   "execution_count": 2,
   "metadata": {},
   "outputs": [],
   "source": [
    "import numpy as np\n",
    "import pandas as pd"
   ]
  },
  {
   "cell_type": "markdown",
   "metadata": {},
   "source": [
    "# Numpy\n",
    "## Useful Methods"
   ]
  },
  {
   "cell_type": "code",
   "execution_count": 3,
   "metadata": {},
   "outputs": [
    {
     "data": {
      "text/plain": "array([[1., 0., 0., 0.],\n       [0., 1., 0., 0.],\n       [0., 0., 1., 0.],\n       [0., 0., 0., 1.]])"
     },
     "execution_count": 3,
     "metadata": {},
     "output_type": "execute_result"
    }
   ],
   "source": [
    "# Three equally spaced points between 0 and 5\n",
    "np.linspace(0, 5, 3)\n",
    "\n",
    "# Identity Matrix\n",
    "np.eye(4)"
   ]
  },
  {
   "cell_type": "markdown",
   "metadata": {},
   "source": [
    "## Random-Stuff"
   ]
  },
  {
   "cell_type": "code",
   "execution_count": 4,
   "metadata": {},
   "outputs": [
    {
     "data": {
      "text/plain": "array([0.04211662, 0.84851846, 0.30695824, 0.01712881, 0.259964  ])"
     },
     "execution_count": 4,
     "metadata": {},
     "output_type": "execute_result"
    }
   ],
   "source": [
    "# Uniformly distributed\n",
    "np.random.rand(5)"
   ]
  },
  {
   "cell_type": "code",
   "execution_count": 5,
   "metadata": {},
   "outputs": [
    {
     "data": {
      "text/plain": "array([ 0.62406873, -0.02677633, -0.40371017,  0.14956028, -1.16402091])"
     },
     "execution_count": 5,
     "metadata": {},
     "output_type": "execute_result"
    }
   ],
   "source": [
    "# Standard Normal Distribution\n",
    "np.random.randn(5)"
   ]
  },
  {
   "cell_type": "code",
   "execution_count": 6,
   "metadata": {},
   "outputs": [
    {
     "data": {
      "text/plain": "array([5, 1, 4, 3, 1, 4, 4, 1, 3, 1])"
     },
     "execution_count": 6,
     "metadata": {},
     "output_type": "execute_result"
    }
   ],
   "source": [
    "# Random Integers\n",
    "np.random.randint(1,7, 10)"
   ]
  },
  {
   "cell_type": "markdown",
   "metadata": {},
   "source": [
    "## Reshaping"
   ]
  },
  {
   "cell_type": "code",
   "execution_count": 7,
   "metadata": {},
   "outputs": [
    {
     "data": {
      "text/plain": "array([10, 28, 24, 47, 36, 25, 15, 39, 28, 11])"
     },
     "execution_count": 7,
     "metadata": {},
     "output_type": "execute_result"
    }
   ],
   "source": [
    "a = np.random.randint(0,50,10)\n",
    "a"
   ]
  },
  {
   "cell_type": "code",
   "execution_count": 8,
   "metadata": {},
   "outputs": [
    {
     "data": {
      "text/plain": "array([[10, 28],\n       [24, 47],\n       [36, 25],\n       [15, 39],\n       [28, 11]])"
     },
     "execution_count": 8,
     "metadata": {},
     "output_type": "execute_result"
    }
   ],
   "source": [
    "ra = a.reshape(5,2)\n",
    "ra"
   ]
  },
  {
   "cell_type": "code",
   "execution_count": 9,
   "metadata": {},
   "outputs": [
    {
     "data": {
      "text/plain": "0"
     },
     "execution_count": 9,
     "metadata": {},
     "output_type": "execute_result"
    }
   ],
   "source": [
    "ra.argmin()"
   ]
  },
  {
   "cell_type": "markdown",
   "metadata": {},
   "source": [
    "## Indexing and Selection  \n",
    "\n",
    "- Broadcasting\n",
    "\n",
    "**NOTE** Slices return views of array, not copies! For copying use `arr.copy()`\n",
    "\n",
    "----"
   ]
  },
  {
   "cell_type": "code",
   "execution_count": 10,
   "metadata": {},
   "outputs": [
    {
     "data": {
      "text/plain": "array([ 0,  1,  2,  3,  4,  5,  6,  7,  8,  9, 10])"
     },
     "execution_count": 10,
     "metadata": {},
     "output_type": "execute_result"
    }
   ],
   "source": [
    "arr = np.arange(0,11)\n",
    "arr"
   ]
  },
  {
   "cell_type": "code",
   "execution_count": 11,
   "metadata": {},
   "outputs": [
    {
     "name": "stdout",
     "output_type": "stream",
     "text": "[0 1 2 3 4]\n[99 99 99 99 99]\n[99 99 99 99 99  5  6  7  8  9 10]\n"
    }
   ],
   "source": [
    "slice_of_arr = arr[:5]\n",
    "print(slice_of_arr)\n",
    "slice_of_arr[:] = 99 # BROADCASTING\n",
    "print(slice_of_arr)\n",
    "print(arr)"
   ]
  },
  {
   "cell_type": "markdown",
   "metadata": {},
   "source": [
    "# Pandas\n",
    "## Hierarchical Indexing"
   ]
  },
  {
   "cell_type": "code",
   "execution_count": 12,
   "metadata": {},
   "outputs": [
    {
     "name": "stdout",
     "output_type": "stream",
     "text": "[[ 0.57090006 -0.57807162]\n [ 0.91882303  1.75039399]\n [-0.79838903  0.10503099]\n [ 1.56321784  0.86403114]\n [ 2.21870613 -1.16236024]\n [ 0.00968016  1.51303992]]\n          0         1\n0  0.570900 -0.578072\n1  0.918823  1.750394\n2 -0.798389  0.105031\n3  1.563218  0.864031\n4  2.218706 -1.162360\n5  0.009680  1.513040\n"
    }
   ],
   "source": [
    "arr = np.random.randn(6,2)\n",
    "print(arr)\n",
    "df = pd.DataFrame(arr)\n",
    "print(df)"
   ]
  },
  {
   "cell_type": "code",
   "execution_count": 13,
   "metadata": {},
   "outputs": [],
   "source": [
    "groups = [\"G1\"]*3 + [\"G2\"]*3\n",
    "nums = [1, 2, 3, 1, 2, 3]\n",
    "\n",
    "df.index=pd.MultiIndex.from_tuples(zip(groups, nums))\n",
    "df.index.names = [\"groups\", \"nums\"]"
   ]
  },
  {
   "cell_type": "code",
   "execution_count": 14,
   "metadata": {},
   "outputs": [
    {
     "data": {
      "text/html": "<div>\n<style scoped>\n    .dataframe tbody tr th:only-of-type {\n        vertical-align: middle;\n    }\n\n    .dataframe tbody tr th {\n        vertical-align: top;\n    }\n\n    .dataframe thead th {\n        text-align: right;\n    }\n</style>\n<table border=\"1\" class=\"dataframe\">\n  <thead>\n    <tr style=\"text-align: right;\">\n      <th></th>\n      <th></th>\n      <th>0</th>\n      <th>1</th>\n    </tr>\n    <tr>\n      <th>groups</th>\n      <th>nums</th>\n      <th></th>\n      <th></th>\n    </tr>\n  </thead>\n  <tbody>\n    <tr>\n      <th rowspan=\"3\" valign=\"top\">G1</th>\n      <th>1</th>\n      <td>0.570900</td>\n      <td>-0.578072</td>\n    </tr>\n    <tr>\n      <th>2</th>\n      <td>0.918823</td>\n      <td>1.750394</td>\n    </tr>\n    <tr>\n      <th>3</th>\n      <td>-0.798389</td>\n      <td>0.105031</td>\n    </tr>\n    <tr>\n      <th rowspan=\"3\" valign=\"top\">G2</th>\n      <th>1</th>\n      <td>1.563218</td>\n      <td>0.864031</td>\n    </tr>\n    <tr>\n      <th>2</th>\n      <td>2.218706</td>\n      <td>-1.162360</td>\n    </tr>\n    <tr>\n      <th>3</th>\n      <td>0.009680</td>\n      <td>1.513040</td>\n    </tr>\n  </tbody>\n</table>\n</div>",
      "text/plain": "                    0         1\ngroups nums                    \nG1     1     0.570900 -0.578072\n       2     0.918823  1.750394\n       3    -0.798389  0.105031\nG2     1     1.563218  0.864031\n       2     2.218706 -1.162360\n       3     0.009680  1.513040"
     },
     "execution_count": 14,
     "metadata": {},
     "output_type": "execute_result"
    }
   ],
   "source": [
    "df"
   ]
  },
  {
   "cell_type": "code",
   "execution_count": 15,
   "metadata": {},
   "outputs": [
    {
     "data": {
      "text/plain": "0    2.218706\n1   -1.162360\nName: 2, dtype: float64"
     },
     "execution_count": 15,
     "metadata": {},
     "output_type": "execute_result"
    }
   ],
   "source": [
    "df.loc[\"G2\"].loc[2]"
   ]
  },
  {
   "cell_type": "code",
   "execution_count": 16,
   "metadata": {},
   "outputs": [
    {
     "data": {
      "text/html": "<div>\n<style scoped>\n    .dataframe tbody tr th:only-of-type {\n        vertical-align: middle;\n    }\n\n    .dataframe tbody tr th {\n        vertical-align: top;\n    }\n\n    .dataframe thead th {\n        text-align: right;\n    }\n</style>\n<table border=\"1\" class=\"dataframe\">\n  <thead>\n    <tr style=\"text-align: right;\">\n      <th></th>\n      <th>0</th>\n      <th>1</th>\n    </tr>\n    <tr>\n      <th>groups</th>\n      <th></th>\n      <th></th>\n    </tr>\n  </thead>\n  <tbody>\n    <tr>\n      <th>G1</th>\n      <td>0.918823</td>\n      <td>1.750394</td>\n    </tr>\n    <tr>\n      <th>G2</th>\n      <td>2.218706</td>\n      <td>-1.162360</td>\n    </tr>\n  </tbody>\n</table>\n</div>",
      "text/plain": "               0         1\ngroups                    \nG1      0.918823  1.750394\nG2      2.218706 -1.162360"
     },
     "execution_count": 16,
     "metadata": {},
     "output_type": "execute_result"
    }
   ],
   "source": [
    "df.xs(2, level=1)"
   ]
  },
  {
   "cell_type": "code",
   "execution_count": 17,
   "metadata": {},
   "outputs": [
    {
     "data": {
      "text/html": "<div>\n<style scoped>\n    .dataframe tbody tr th:only-of-type {\n        vertical-align: middle;\n    }\n\n    .dataframe tbody tr th {\n        vertical-align: top;\n    }\n\n    .dataframe thead th {\n        text-align: right;\n    }\n</style>\n<table border=\"1\" class=\"dataframe\">\n  <thead>\n    <tr style=\"text-align: right;\">\n      <th></th>\n      <th>group</th>\n      <th>a</th>\n      <th>b</th>\n    </tr>\n  </thead>\n  <tbody>\n    <tr>\n      <th>0</th>\n      <td>g1</td>\n      <td>a</td>\n      <td>f</td>\n    </tr>\n    <tr>\n      <th>1</th>\n      <td>g1</td>\n      <td>b</td>\n      <td>g</td>\n    </tr>\n    <tr>\n      <th>2</th>\n      <td>g2</td>\n      <td>c</td>\n      <td>h</td>\n    </tr>\n    <tr>\n      <th>3</th>\n      <td>g2</td>\n      <td>d</td>\n      <td>i</td>\n    </tr>\n    <tr>\n      <th>4</th>\n      <td>g1</td>\n      <td>e</td>\n      <td>j</td>\n    </tr>\n  </tbody>\n</table>\n</div>",
      "text/plain": "  group  a  b\n0    g1  a  f\n1    g1  b  g\n2    g2  c  h\n3    g2  d  i\n4    g1  e  j"
     },
     "execution_count": 17,
     "metadata": {},
     "output_type": "execute_result"
    }
   ],
   "source": [
    "df = pd.DataFrame({\n",
    "    \"group\": \"g1 g1 g2 g2 g1\".split(),\n",
    "    \"a\": \"a b c d e\".split(), \n",
    "    \"b\": \"f g h i j\".split(),\n",
    "    })\n",
    "df"
   ]
  },
  {
   "cell_type": "code",
   "execution_count": 18,
   "metadata": {},
   "outputs": [
    {
     "data": {
      "text/plain": "0    [g1, a, f]\n1    [g1, b, g]\n2    [g2, c, h]\n3    [g2, d, i]\n4    [g1, e, j]\ndtype: object"
     },
     "execution_count": 18,
     "metadata": {},
     "output_type": "execute_result"
    }
   ],
   "source": [
    "df.apply(lambda row: list(row), axis=1)"
   ]
  },
  {
   "cell_type": "code",
   "execution_count": 19,
   "metadata": {},
   "outputs": [
    {
     "data": {
      "text/html": "<div>\n<style scoped>\n    .dataframe tbody tr th:only-of-type {\n        vertical-align: middle;\n    }\n\n    .dataframe tbody tr th {\n        vertical-align: top;\n    }\n\n    .dataframe thead th {\n        text-align: right;\n    }\n</style>\n<table border=\"1\" class=\"dataframe\">\n  <thead>\n    <tr style=\"text-align: right;\">\n      <th></th>\n      <th>a</th>\n      <th>b</th>\n    </tr>\n    <tr>\n      <th>group</th>\n      <th></th>\n      <th></th>\n    </tr>\n  </thead>\n  <tbody>\n    <tr>\n      <th>g1</th>\n      <td>[a, b, e]</td>\n      <td>[f, g, j]</td>\n    </tr>\n    <tr>\n      <th>g2</th>\n      <td>[c, d]</td>\n      <td>[h, i]</td>\n    </tr>\n  </tbody>\n</table>\n</div>",
      "text/plain": "               a          b\ngroup                      \ng1     [a, b, e]  [f, g, j]\ng2        [c, d]     [h, i]"
     },
     "execution_count": 19,
     "metadata": {},
     "output_type": "execute_result"
    }
   ],
   "source": [
    "df.groupby(\"group\").agg(lambda x: list(x))"
   ]
  },
  {
   "cell_type": "code",
   "execution_count": null,
   "metadata": {},
   "outputs": [],
   "source": []
  }
 ],
 "metadata": {
  "file_extension": ".py",
  "kernelspec": {
   "display_name": "Python 3.7.6 64-bit ('MoritzConda': conda)",
   "language": "python",
   "name": "python37664bitmoritzcondacondaec83aa2bdcbd43f083d06fb01fa37289"
  },
  "language_info": {
   "codemirror_mode": {
    "name": "ipython",
    "version": 3
   },
   "file_extension": ".py",
   "mimetype": "text/x-python",
   "name": "python",
   "nbconvert_exporter": "python",
   "pygments_lexer": "ipython3",
   "version": "3.7.6-final"
  },
  "mimetype": "text/x-python",
  "name": "python",
  "npconvert_exporter": "python",
  "pygments_lexer": "ipython3",
  "version": 3
 },
 "nbformat": 4,
 "nbformat_minor": 2
}